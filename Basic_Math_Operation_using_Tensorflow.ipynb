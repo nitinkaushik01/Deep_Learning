{
  "nbformat": 4,
  "nbformat_minor": 0,
  "metadata": {
    "colab": {
      "name": "Untitled4.ipynb",
      "version": "0.3.2",
      "provenance": []
    },
    "kernelspec": {
      "name": "python3",
      "display_name": "Python 3"
    },
    "accelerator": "GPU"
  },
  "cells": [
    {
      "cell_type": "code",
      "metadata": {
        "id": "wVwkIL7H26oc",
        "colab_type": "code",
        "colab": {
          "base_uri": "https://localhost:8080/",
          "height": 34
        },
        "outputId": "8c2a6932-60cd-4404-f400-30f3ff9a1098"
      },
      "source": [
        "import tensorflow as tf\n",
        "!pip install -U tensorboardcolab\n",
        "from tensorboardcolab import *\n",
        "import shutil"
      ],
      "execution_count": 27,
      "outputs": [
        {
          "output_type": "stream",
          "text": [
            "Requirement already up-to-date: tensorboardcolab in /usr/local/lib/python3.6/dist-packages (0.0.22)\n"
          ],
          "name": "stdout"
        }
      ]
    },
    {
      "cell_type": "code",
      "metadata": {
        "id": "4S4dn44V4zAU",
        "colab_type": "code",
        "colab": {}
      },
      "source": [
        "shutil.rmtree('./Graph', ignore_errors=True)\n",
        "os.mkdir('./Graph')"
      ],
      "execution_count": 0,
      "outputs": []
    },
    {
      "cell_type": "code",
      "metadata": {
        "id": "3POWAGKx42HH",
        "colab_type": "code",
        "colab": {}
      },
      "source": [
        "tf.reset_default_graph()"
      ],
      "execution_count": 0,
      "outputs": []
    },
    {
      "cell_type": "code",
      "metadata": {
        "id": "Ou92uS8M5afQ",
        "colab_type": "code",
        "colab": {
          "base_uri": "https://localhost:8080/",
          "height": 70
        },
        "outputId": "1b95c68a-e97f-4d67-f2c7-eb72f72b3386"
      },
      "source": [
        "tbc=TensorBoardColab()"
      ],
      "execution_count": 30,
      "outputs": [
        {
          "output_type": "stream",
          "text": [
            "Wait for 8 seconds...\n",
            "TensorBoard link:\n",
            "https://0f07c7c7.ngrok.io\n"
          ],
          "name": "stdout"
        }
      ]
    },
    {
      "cell_type": "code",
      "metadata": {
        "id": "2L4Qo8FB9dxm",
        "colab_type": "code",
        "colab": {}
      },
      "source": [
        "const_15 = tf.constant(15.0, name = 'constant_15.0')\n",
        "const_11 = tf.constant(11.0, name = 'constant_11.0')\n",
        "const_60 = tf.constant(60.0, name = 'constant_60.0')"
      ],
      "execution_count": 0,
      "outputs": []
    },
    {
      "cell_type": "code",
      "metadata": {
        "id": "M3E7yHeR9dpK",
        "colab_type": "code",
        "colab": {}
      },
      "source": [
        "Addition = tf.add(const_11, const_15, name = 'Adding_constants')\n",
        "Subtraction = tf.subtract(const_15, const_11, name = 'Subtracting_constants')\n",
        "Multiplication = tf.multiply(const_15, const_11, name = 'Multiplying_constants')\n",
        "Division = tf.div(const_15, const_60, name = 'Divide_constants')\n",
        "Total_sum = tf.add_n([Addition, Subtraction, Multiplication, Division], name = 'total_sum')"
      ],
      "execution_count": 0,
      "outputs": []
    },
    {
      "cell_type": "code",
      "metadata": {
        "id": "Y4oxHIWI5e8o",
        "colab_type": "code",
        "colab": {
          "base_uri": "https://localhost:8080/",
          "height": 34
        },
        "outputId": "1a811f99-af5e-482c-d76c-bcd8de5d918e"
      },
      "source": [
        "with tf.Session() as sess:\n",
        "  print(\"Total_Sum\", sess.run(Total_sum ))"
      ],
      "execution_count": 33,
      "outputs": [
        {
          "output_type": "stream",
          "text": [
            "Total_Sum 195.9375\n"
          ],
          "name": "stdout"
        }
      ]
    },
    {
      "cell_type": "code",
      "metadata": {
        "id": "lCPyl_2M51b0",
        "colab_type": "code",
        "colab": {}
      },
      "source": [
        "train_writer = tbc.get_writer();\n",
        "train_writer.add_graph(sess.graph)\n",
        "\n",
        "train_writer.flush();\n",
        "tbc.close()"
      ],
      "execution_count": 0,
      "outputs": []
    },
    {
      "cell_type": "code",
      "metadata": {
        "id": "JVQjlhdm6L_n",
        "colab_type": "code",
        "colab": {}
      },
      "source": [
        ""
      ],
      "execution_count": 0,
      "outputs": []
    }
  ]
}
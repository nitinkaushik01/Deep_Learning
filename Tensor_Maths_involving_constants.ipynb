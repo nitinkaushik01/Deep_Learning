{
  "nbformat": 4,
  "nbformat_minor": 0,
  "metadata": {
    "colab": {
      "name": "Tensor_Maths_involving constants.ipynb",
      "version": "0.3.2",
      "provenance": []
    },
    "kernelspec": {
      "name": "python3",
      "display_name": "Python 3"
    }
  },
  "cells": [
    {
      "cell_type": "code",
      "metadata": {
        "id": "Bh_8a7UGfiAt",
        "colab_type": "code",
        "colab": {}
      },
      "source": [
        "import tensorflow as tf\n"
      ],
      "execution_count": 0,
      "outputs": []
    },
    {
      "cell_type": "code",
      "metadata": {
        "id": "3n74VkVZjWR9",
        "colab_type": "code",
        "colab": {}
      },
      "source": [
        "a = tf.constant([20, 30, 40], name = \"a\")\n",
        "b = tf.constant([10, 20, 30], name = \"b\")"
      ],
      "execution_count": 0,
      "outputs": []
    },
    {
      "cell_type": "code",
      "metadata": {
        "id": "ChR2mvM2jewI",
        "colab_type": "code",
        "colab": {}
      },
      "source": [
        "sum_of_a = tf.reduce_sum(a, name=\"sum_of_a\")\n",
        "prod_of_b = tf.reduce_prod(b, name=\"prod_of_b\")\n"
      ],
      "execution_count": 0,
      "outputs": []
    },
    {
      "cell_type": "code",
      "metadata": {
        "id": "15MPJzeAjfdA",
        "colab_type": "code",
        "colab": {}
      },
      "source": [
        "mean_tensors = tf.reduce_mean([sum_of_a, prod_of_b], name=\"mean_tensors\")\n",
        "mul_tensors = tf.multiply(sum_of_a, prod_of_b, name=\"mul_tensors\")"
      ],
      "execution_count": 0,
      "outputs": []
    },
    {
      "cell_type": "code",
      "metadata": {
        "id": "9mt3wRyDjkfD",
        "colab_type": "code",
        "colab": {
          "base_uri": "https://localhost:8080/",
          "height": 123
        },
        "outputId": "df593edc-b5ce-4820-fbbd-1782b54491e4"
      },
      "source": [
        "with tf.Session() as sess:\n",
        "\tprint(\"a: \", sess.run(a))\n",
        "\tprint(\"b: \", sess.run(b))\n",
        "\tprint(\"Sum(a): \", sess.run(sum_of_a))\n",
        "\tprint(\"Prod(b): \", sess.run(prod_of_b))\n",
        "\tprint(\"Mean(Sum(a), Prod(b)): \", sess.run(mean_tensors))\n",
        "\tprint(\"Sum(a) * Prod(b): \", sess.run(mul_tensors))"
      ],
      "execution_count": 31,
      "outputs": [
        {
          "output_type": "stream",
          "text": [
            "a:  [20 30 40]\n",
            "b:  [10 20 30]\n",
            "Sum(a):  90\n",
            "Prod(b):  6000\n",
            "Mean(Sum(a), Prod(b)):  3045\n",
            "Sum(a) * Prod(b):  540000\n"
          ],
          "name": "stdout"
        }
      ]
    },
    {
      "cell_type": "code",
      "metadata": {
        "id": "WApd3ilRjnBO",
        "colab_type": "code",
        "colab": {}
      },
      "source": [
        ""
      ],
      "execution_count": 0,
      "outputs": []
    },
    {
      "cell_type": "code",
      "metadata": {
        "id": "vsXK77h6jrQ_",
        "colab_type": "code",
        "colab": {}
      },
      "source": [
        ""
      ],
      "execution_count": 0,
      "outputs": []
    }
  ]
}